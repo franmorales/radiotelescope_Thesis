{
 "cells": [
  {
   "cell_type": "code",
   "execution_count": 1,
   "metadata": {},
   "outputs": [],
   "source": [
    "import tensorflow as tf\n",
    "import numpy as np\n",
    "import matplotlib.pyplot as plt\n",
    "import pandas as pd\n",
    "import seaborn as sns\n",
    "from sklearn import datasets, linear_model\n",
    "from sklearn.metrics import mean_squared_error, r2_score\n",
    "\n",
    "#Importando el dataset:\n",
    "\n",
    "dataSet = np.load('proyecto_training_data.npy') \n",
    "\n",
    "#Convirtiendo el dataSet en un Data Frame de Pandas (Limpiando la data de valores NaN)\n",
    "\n",
    "Columnas = [\"Precio real\",\"Calidad Acabados\",\"Pies Cuadrados\",\"Total de Cuartos\",\"Anio de Construccion\",\n",
    "            \"Pies lineales Calle\"]\n",
    "\n",
    "dataDF = pd.DataFrame(dataSet,columns=Columnas).dropna()"
   ]
  },
  {
   "cell_type": "markdown",
   "metadata": {},
   "source": [
    "Separacion de la data en data de entrenamiento y de evaluacion:"
   ]
  },
  {
   "cell_type": "code",
   "execution_count": 2,
   "metadata": {},
   "outputs": [],
   "source": [
    "trainingDF = dataDF.iloc[0:int(0.8*dataDF.count()[0])]\n",
    "testDF = dataDF.iloc[int(0.8*dataDF.count()[0]):]"
   ]
  },
  {
   "cell_type": "markdown",
   "metadata": {},
   "source": [
    "**Nota: Para efectos de la presente tarea, se ha omitido la parte del analisis exploratorio de datos para dar paso directamente a la parte de entrenamiento de la funcion.**"
   ]
  },
  {
   "cell_type": "markdown",
   "metadata": {},
   "source": [
    "### Parte analitica\n",
    "\n",
    "##### Definicion de Grafos:"
   ]
  },
  {
   "cell_type": "code",
   "execution_count": null,
   "metadata": {},
   "outputs": [],
   "source": [
    "# Creacion de las variables dependientes e independeintes como placeHolders:\n",
    "\n",
    "X_hat = tf.placeholder(\"float\",name=\"X_hat\")\n",
    "Y_hat = tf.placeholder(\"float\",name=\"Y_hat\")\n",
    "Y = tf.placeholder(\"float\",name=\"Y\")\n",
    "\n",
    "# Creacion de los parametros entrenables como variables:\n",
    "\n",
    "m = tf.Variable(0.8, name=\"m\")\n",
    "b = tf.Variable(0.7, name=\"b\")"
   ]
  },
  {
   "cell_type": "markdown",
   "metadata": {},
   "source": [
    "##### Funcion de entrenamiento"
   ]
  },
  {
   "cell_type": "code",
   "execution_count": 5,
   "metadata": {},
   "outputs": [],
   "source": [
    "def trainingFunction(x, y, ite,showError, learnR):\n",
    "    count = 0\n",
    "    errorVect = np.array([np.nan])\n",
    "    mb = np.array([0.8,0.7])\n",
    "    onesVect = np.ones_like(x)\n",
    "    X = np.append(x,onesVect,axis = 1) \n",
    "    mbDict = {}\n",
    "    while(count<ite):\n",
    "        count+=1    \n",
    "        \n",
    "        #CALCULO DE Y_HAT\n",
    "        Y_hat = np.matmul(X,mb)\n",
    "        Y_hat = Y_hat[:,np.newaxis]\n",
    "        \n",
    "        #CALCULO DEL ERROR PROMEDIO\n",
    "        y_Y_hat = y - Y_hat\n",
    "        y_Y_hatPow = np.power(y_Y_hat,2)\n",
    "        errorProm = 0.5*np.mean( y_Y_hatPow,axis=0)\n",
    "        \n",
    "        #ALMACENANDO EL ERROR EN UN VECTOR\n",
    "        errorVect = np.append(errorVect, errorProm,axis = 0)\n",
    "        if (count%showError == 0):\n",
    "            print('El error del presente modelo es: ', errorProm,'el numero de iteracion es:',count)        \n",
    "        \n",
    "        #CALCULO DEL GRADIENTE\n",
    "        gradVect = np.mean(X*(Y_hat-y),axis=0)\n",
    "        \n",
    "        #CALCULO DEL MODELO mb\n",
    "        mb -= gradVect*learnR\n",
    "        mbDict[count] = np.copy(mb)\n",
    "        \n",
    "    return (mbDict,errorVect[1:])"
   ]
  },
  {
   "cell_type": "code",
   "execution_count": null,
   "metadata": {},
   "outputs": [],
   "source": []
  }
 ],
 "metadata": {
  "kernelspec": {
   "display_name": "Python 3",
   "language": "python",
   "name": "python3"
  },
  "language_info": {
   "codemirror_mode": {
    "name": "ipython",
    "version": 3
   },
   "file_extension": ".py",
   "mimetype": "text/x-python",
   "name": "python",
   "nbconvert_exporter": "python",
   "pygments_lexer": "ipython3",
   "version": "3.6.8"
  }
 },
 "nbformat": 4,
 "nbformat_minor": 2
}
